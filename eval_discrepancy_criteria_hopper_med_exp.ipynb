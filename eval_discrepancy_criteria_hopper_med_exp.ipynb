{
 "cells": [
  {
   "cell_type": "code",
   "execution_count": 1,
   "id": "cd8236f8",
   "metadata": {},
   "outputs": [],
   "source": [
    "import rollout_doc_file_processor\n",
    "import plotter\n",
    "import numpy as np\n",
    "from scipy.stats import spearmanr\n",
    "import matplotlib.pyplot as plt\n",
    "import seaborn as sns\n",
    "import os"
   ]
  },
  {
   "cell_type": "code",
   "execution_count": 3,
   "id": "26d88f44",
   "metadata": {},
   "outputs": [],
   "source": [
    "dir_path = \"log/hopper-medium-expert-v2/combo/seed_1_timestamp_25-0825-124532/rollout_docs\""
   ]
  },
  {
   "cell_type": "code",
   "execution_count": 4,
   "id": "0b4dd59b",
   "metadata": {},
   "outputs": [],
   "source": [
    "doc_paths = [os.path.join(dir_path, f) for f in os.listdir(dir_path) if f.endswith('.json')]"
   ]
  },
  {
   "cell_type": "code",
   "execution_count": null,
   "id": "07023d37",
   "metadata": {},
   "outputs": [],
   "source": [
    "docs = rollout_doc_file_processor.load_rollout_docs(doc_paths, cast_to_nparray=False)"
   ]
  },
  {
   "cell_type": "code",
   "execution_count": null,
   "id": "3d73e39d",
   "metadata": {},
   "outputs": [
    {
     "data": {
      "text/plain": [
       "28"
      ]
     },
     "execution_count": 6,
     "metadata": {},
     "output_type": "execute_result"
    }
   ],
   "source": [
    "# add epoch info to docs"
   ]
  },
  {
   "cell_type": "code",
   "execution_count": null,
   "id": "4a6dd0a6",
   "metadata": {},
   "outputs": [],
   "source": [
    "doc = rollout_doc_file_processor.load_rollout_docs(\"log/hopper-medium-expert-v2/combo/seed_1_timestamp_25-0825-124532/rollout_docs/epoch_220_timesteps_219000_rollout_doc.json\")\n",
    "doc = doc[0]\n",
    "doc.keys()"
   ]
  },
  {
   "cell_type": "code",
   "execution_count": null,
   "id": "f60e94c2",
   "metadata": {},
   "outputs": [],
   "source": [
    "uncertainty_measures = ['aleatoric', 'pairwise-diff', 'pairwise-diff_with_std', 'ensemble_std', 'dimensionwise_diff_with_std']"
   ]
  },
  {
   "cell_type": "code",
   "execution_count": null,
   "id": "bcd392e4",
   "metadata": {},
   "outputs": [],
   "source": [
    "plotter.plot_correlation_bars(doc, uncertainty_measures, error_key='model_error_l2', title='Correlation of Uncertainty Measures with Model Error', print_corr_values=True, fig_size=(10, 6))"
   ]
  },
  {
   "cell_type": "code",
   "execution_count": null,
   "id": "0a20cabb",
   "metadata": {},
   "outputs": [],
   "source": [
    "# Prepare data for correlation matrix\n",
    "uncertainty_data = np.stack([doc[k] for k in uncertainty_measures], axis=1)\n",
    "corr_matrix = np.corrcoef(uncertainty_data, rowvar=False)\n",
    "\n",
    "plt.figure(figsize=(8, 6))\n",
    "sns.heatmap(corr_matrix, annot=True, xticklabels=uncertainty_measures, yticklabels=uncertainty_measures, cmap='coolwarm', fmt=\".2f\")\n",
    "plt.title(\"Correlation Matrix of Uncertainty Measures\")\n",
    "plt.tight_layout()\n",
    "plt.show()"
   ]
  },
  {
   "cell_type": "code",
   "execution_count": null,
   "id": "74f89ca1",
   "metadata": {},
   "outputs": [],
   "source": [
    "# plot correlation matrix\n"
   ]
  },
  {
   "cell_type": "code",
   "execution_count": null,
   "id": "acaa1b66",
   "metadata": {},
   "outputs": [],
   "source": [
    "for u in uncertainty_measures:\n",
    "    plotter.plot_scatter_correlation(x=doc[u], y=doc[\"model_error_l2\"], title=f\"{u} vs Model Error L2\", xlabel=u, ylabel=\"Model Error L2\", bins=10000, mark_percentile=70, fig_size=(6, 6))"
   ]
  },
  {
   "cell_type": "markdown",
   "id": "d2582420",
   "metadata": {},
   "source": [
    "#### Fit OLS Model"
   ]
  },
  {
   "cell_type": "code",
   "execution_count": null,
   "id": "4f793d32",
   "metadata": {},
   "outputs": [],
   "source": [
    "unc_data = np.stack([doc[k] for k in uncertainty_measures]).T\n",
    "target = doc[\"model_error_l2\"]\n",
    "unc_data.shape, target.shape"
   ]
  },
  {
   "cell_type": "code",
   "execution_count": null,
   "id": "269aa6f8",
   "metadata": {},
   "outputs": [],
   "source": [
    "# Fit linear regression model\n",
    "reg_strength = 0.5\n",
    "beta = np.linalg.inv(unc_data.T @ unc_data + reg_strength) @ unc_data.T @ target\n",
    "y_hat = unc_data @ beta\n",
    "beta, y_hat.shape"
   ]
  },
  {
   "cell_type": "code",
   "execution_count": null,
   "id": "fb3d3329",
   "metadata": {},
   "outputs": [],
   "source": [
    "pearson_y_hat = np.corrcoef(y_hat, doc[\"model_error_l2\"])[0, 1]\n",
    "spearman_y_hat, _ = spearmanr(y_hat, doc[\"model_error_l2\"])\n",
    "pearson_y_hat, spearman_y_hat"
   ]
  },
  {
   "cell_type": "code",
   "execution_count": null,
   "id": "17f1b392",
   "metadata": {},
   "outputs": [],
   "source": [
    "plotter.plot_scatter_correlation(x= y_hat, y=doc[\"model_error_l2\"], title=f\"OLS using all uncertainty measures vs L2 Model Error\", xlabel=\"OLS target\", ylabel=\"Model Error L2\", bins=10000, mark_percentile=70, fig_size=(6, 6))"
   ]
  },
  {
   "cell_type": "markdown",
   "id": "48cb5274",
   "metadata": {},
   "source": [
    "## Logistic Regression on all Features as Filter Criterion - Target L2 Error Threshold: 0.1"
   ]
  },
  {
   "cell_type": "code",
   "execution_count": null,
   "id": "407e8489",
   "metadata": {},
   "outputs": [],
   "source": [
    "# Logistic Regression to find criterion to filter model_error > 0.1\n",
    "\n",
    "threshold = 0.1\n",
    "\n",
    "targets_log_reg = (doc[\"model_error_l2\"] > threshold).astype(int)\n",
    "sample_weights = np.clip(np.abs(doc[\"model_error_l2\"] - threshold)**0.5, 0, 2) # clipped sqrt abs distance\n",
    "\n",
    "targets_log_reg.shape, sample_weights.shape"
   ]
  },
  {
   "cell_type": "code",
   "execution_count": null,
   "id": "050c8b4c",
   "metadata": {},
   "outputs": [],
   "source": [
    "plt.figure(figsize=(8, 4))\n",
    "plt.hist(sample_weights, bins=1000, color='skyblue', edgecolor='black')\n",
    "mean_val = np.mean(sample_weights)\n",
    "plt.axvline(mean_val, color='r', linestyle='--', linewidth=1, label=f\"Mean: {mean_val:.3f}\")\n",
    "plt.xlabel(\"Sample Weights\")\n",
    "plt.ylabel(\"Count\")\n",
    "plt.title(\"Histogram of Sample Weights for Logistic Regression\")\n",
    "plt.legend()\n",
    "plt.show()"
   ]
  },
  {
   "cell_type": "code",
   "execution_count": null,
   "id": "cbc93941",
   "metadata": {},
   "outputs": [],
   "source": [
    "from sklearn.linear_model import LogisticRegression\n",
    "\n",
    "log_reg = LogisticRegression(max_iter=1000)\n",
    "log_reg.fit(unc_data, targets_log_reg, sample_weight=sample_weights)\n",
    "log_reg.coef_"
   ]
  },
  {
   "cell_type": "code",
   "execution_count": null,
   "id": "d0b5ff40",
   "metadata": {},
   "outputs": [],
   "source": [
    "y_hat_log_reg = log_reg.predict(unc_data)\n",
    "y_hat_log_reg.shape"
   ]
  },
  {
   "cell_type": "code",
   "execution_count": null,
   "id": "5c208326",
   "metadata": {},
   "outputs": [],
   "source": [
    "x = y_hat\n",
    "y = doc[\"model_error_l2\"]\n",
    "\n",
    "# Prepare colors by y_hat_log_reg\n",
    "colors = np.where(y_hat_log_reg == 1, \"red\", \"green\")\n",
    "\n",
    "plt.figure(figsize=(7, 7))\n",
    "plt.scatter(x, y, c=colors, s=2, alpha=0.1, label=None)\n",
    "plt.xscale(\"log\")\n",
    "plt.yscale(\"log\")\n",
    "plt.xlabel(\"OLS prediction (log scale)\")\n",
    "plt.ylabel(\"model_error_l2 (log scale)\")\n",
    "plt.title(\"Accepted and Filtered Out Data - Displayed on OLS Prediction vs Model Error Plot\")\n",
    "\n",
    "# Add legend for colors\n",
    "import matplotlib.patches as mpatches\n",
    "plt.legend(handles=[\n",
    "    mpatches.Patch(color='green', label='Accepted by Log-Reg'),\n",
    "    mpatches.Patch(color='red', label='Filtered out by Log-Reg')\n",
    "], loc='upper left')\n",
    "\n",
    "plt.tight_layout()\n",
    "plt.show()"
   ]
  },
  {
   "cell_type": "code",
   "execution_count": null,
   "id": "a0a05103",
   "metadata": {},
   "outputs": [],
   "source": [
    "plotter.plot_filtering_analysis(doc, filter_indicator=y_hat_log_reg, bins=5000, fig_size=(22, 9), filter_criterion=\"Logistic Regression Prediction - trained to filter 10%\")"
   ]
  },
  {
   "cell_type": "markdown",
   "id": "8110e7bf",
   "metadata": {},
   "source": [
    "### Heuristic Filter Criterion - Filter out iff dimensionwise_diff_with_std > 0.15 OR aleatoric > 0.15"
   ]
  },
  {
   "cell_type": "code",
   "execution_count": null,
   "id": "d9917df3",
   "metadata": {},
   "outputs": [],
   "source": [
    "filter_indicator = (doc[\"dimensionwise_diff_with_std\"] > 0.15) | (doc[\"aleatoric\"] > 0.15)\n",
    "filter_indicator.shape"
   ]
  },
  {
   "cell_type": "code",
   "execution_count": null,
   "id": "ddb5e676",
   "metadata": {},
   "outputs": [],
   "source": [
    "plotter.plot_filtering_analysis(doc, filter_indicator=filter_indicator, bins=5000, fig_size=(22, 9), filter_criterion=\"dimensionwise_diff_with_std > 0.15 OR aleatoric > 0.15\")"
   ]
  }
 ],
 "metadata": {
  "kernelspec": {
   "display_name": "orl",
   "language": "python",
   "name": "python3"
  },
  "language_info": {
   "codemirror_mode": {
    "name": "ipython",
    "version": 3
   },
   "file_extension": ".py",
   "mimetype": "text/x-python",
   "name": "python",
   "nbconvert_exporter": "python",
   "pygments_lexer": "ipython3",
   "version": "3.10.14"
  }
 },
 "nbformat": 4,
 "nbformat_minor": 5
}
